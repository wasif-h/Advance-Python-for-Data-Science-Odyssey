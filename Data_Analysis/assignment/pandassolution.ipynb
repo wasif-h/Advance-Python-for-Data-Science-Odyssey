{
 "cells": [
  {
   "cell_type": "markdown",
   "metadata": {},
   "source": [
    "# Module: Pandas Assignments\n",
    "## Lesson: Pandas\n",
    "### Assignment 1: DataFrame Creation and Indexing\n",
    "\n",
    "1. Create a Pandas DataFrame with 4 columns and 6 rows filled with random integers. Set the index to be the first column."
   ]
  },
  {
   "cell_type": "code",
   "execution_count": 1,
   "metadata": {},
   "outputs": [
    {
     "name": "stdout",
     "output_type": "stream",
     "text": [
      "Original DataFrame:\n",
      "    A   B   C   D\n",
      "0   2  27  67  79\n",
      "1  35   1  37  67\n",
      "2  81  30  61  69\n",
      "3  30  59  35  70\n",
      "4  20  38  14  88\n",
      "5  30  22  21  24\n",
      "DataFrame with new index:\n",
      "     B   C   D\n",
      "A             \n",
      "2   27  67  79\n",
      "35   1  37  67\n",
      "81  30  61  69\n",
      "30  59  35  70\n",
      "20  38  14  88\n",
      "30  22  21  24\n"
     ]
    }
   ],
   "source": [
    "import pandas as pd\n",
    "import numpy as np\n",
    "\n",
    "# Create a Pandas DataFrame with 4 columns and 6 rows filled with random integers\n",
    "df = pd.DataFrame(np.random.randint(1, 100, size=(6, 4)), columns=['A', 'B', 'C', 'D'])\n",
    "print(\"Original DataFrame:\")\n",
    "print(df)\n",
    "\n",
    "# Set the index to be the first column\n",
    "df.set_index('A', inplace=True)\n",
    "print(\"DataFrame with new index:\")\n",
    "print(df)"
   ]
  },
  {
   "cell_type": "markdown",
   "metadata": {},
   "source": [
    "2. Create a Pandas DataFrame with columns 'A', 'B', 'C' and index 'X', 'Y', 'Z'. Fill the DataFrame with random integers and access the element at row 'Y' and column 'B'."
   ]
  },
  {
   "cell_type": "code",
   "execution_count": 2,
   "metadata": {},
   "outputs": [
    {
     "name": "stdout",
     "output_type": "stream",
     "text": [
      "Original DataFrame:\n",
      "    A   B   C\n",
      "X  61  24  47\n",
      "Y  30  72  50\n",
      "Z  44  50  16\n",
      "Element at row 'Y' and column 'B': 72\n"
     ]
    }
   ],
   "source": [
    "# Create a Pandas DataFrame with specified columns and index\n",
    "df = pd.DataFrame(np.random.randint(1, 100, size=(3, 3)), columns=['A', 'B', 'C'], index=['X', 'Y', 'Z'])\n",
    "print(\"Original DataFrame:\")\n",
    "print(df)\n",
    "\n",
    "# Access the element at row 'Y' and column 'B'\n",
    "element = df.at['Y', 'B']\n",
    "print(\"Element at row 'Y' and column 'B':\", element)"
   ]
  },
  {
   "cell_type": "markdown",
   "metadata": {},
   "source": [
    "### Assignment 2: DataFrame Operations\n",
    "\n",
    "1. Create a Pandas DataFrame with 3 columns and 5 rows filled with random integers. Add a new column that is the product of the first two columns."
   ]
  },
  {
   "cell_type": "code",
   "execution_count": 3,
   "metadata": {},
   "outputs": [
    {
     "name": "stdout",
     "output_type": "stream",
     "text": [
      "Original DataFrame:\n",
      "    A   B   C\n",
      "0  20  95  23\n",
      "1  51  93  67\n",
      "2  88  19  26\n",
      "3  64  96  38\n",
      "4  55  73  11\n",
      "DataFrame with new column:\n",
      "    A   B   C     D\n",
      "0  20  95  23  1900\n",
      "1  51  93  67  4743\n",
      "2  88  19  26  1672\n",
      "3  64  96  38  6144\n",
      "4  55  73  11  4015\n"
     ]
    }
   ],
   "source": [
    "# Create a Pandas DataFrame with 3 columns and 5 rows filled with random integers\n",
    "df = pd.DataFrame(np.random.randint(1, 100, size=(5, 3)), columns=['A', 'B', 'C'])\n",
    "print(\"Original DataFrame:\")\n",
    "print(df)\n",
    "\n",
    "# Add a new column that is the product of the first two columns\n",
    "df['D'] = df['A'] * df['B']\n",
    "print(\"DataFrame with new column:\")\n",
    "print(df)"
   ]
  },
  {
   "cell_type": "markdown",
   "metadata": {},
   "source": [
    "2. Create a Pandas DataFrame with 3 columns and 4 rows filled with random integers. Compute the row-wise and column-wise sum."
   ]
  },
  {
   "cell_type": "code",
   "execution_count": 4,
   "metadata": {},
   "outputs": [
    {
     "name": "stdout",
     "output_type": "stream",
     "text": [
      "Original DataFrame:\n",
      "    A   B   C\n",
      "0  31  38  39\n",
      "1  39  51  40\n",
      "2  71   5  85\n",
      "3  73  75  22\n",
      "Row-wise sum:\n",
      "0    108\n",
      "1    130\n",
      "2    161\n",
      "3    170\n",
      "dtype: int64\n",
      "Column-wise sum:\n",
      "A    214\n",
      "B    169\n",
      "C    186\n",
      "dtype: int64\n"
     ]
    }
   ],
   "source": [
    "# Create a Pandas DataFrame with 3 columns and 4 rows filled with random integers\n",
    "df = pd.DataFrame(np.random.randint(1, 100, size=(4, 3)), columns=['A', 'B', 'C'])\n",
    "print(\"Original DataFrame:\")\n",
    "print(df)\n",
    "\n",
    "# Compute the row-wise and column-wise sum\n",
    "row_sum = df.sum(axis=1)\n",
    "column_sum = df.sum(axis=0)\n",
    "\n",
    "print(\"Row-wise sum:\")\n",
    "print(row_sum)\n",
    "print(\"Column-wise sum:\")\n",
    "print(column_sum)"
   ]
  },
  {
   "cell_type": "markdown",
   "metadata": {},
   "source": [
    "### Assignment 3: Data Cleaning\n",
    "\n",
    "1. Create a Pandas DataFrame with 3 columns and 5 rows filled with random integers. Introduce some NaN values. Fill the NaN values with the mean of the respective columns."
   ]
  },
  {
   "cell_type": "code",
   "execution_count": 5,
   "metadata": {},
   "outputs": [
    {
     "name": "stdout",
     "output_type": "stream",
     "text": [
      "Original DataFrame:\n",
      "    A   B   C\n",
      "0  82  98  25\n",
      "1  67   1  64\n",
      "2  31  60  15\n",
      "3  21   9  90\n",
      "4  56  24  29\n",
      "DataFrame with NaN values:\n",
      "      A     B     C\n",
      "0  82.0   NaN  25.0\n",
      "1  67.0   1.0  64.0\n",
      "2  31.0  60.0   NaN\n",
      "3  21.0   9.0  90.0\n",
      "4   NaN  24.0  29.0\n",
      "DataFrame with NaN values filled:\n",
      "       A     B     C\n",
      "0  82.00  23.5  25.0\n",
      "1  67.00   1.0  64.0\n",
      "2  31.00  60.0  52.0\n",
      "3  21.00   9.0  90.0\n",
      "4  50.25  24.0  29.0\n"
     ]
    }
   ],
   "source": [
    "# Create a Pandas DataFrame with 3 columns and 5 rows filled with random integers\n",
    "df = pd.DataFrame(np.random.randint(1, 100, size=(5, 3)), columns=['A', 'B', 'C'])\n",
    "print(\"Original DataFrame:\")\n",
    "print(df)\n",
    "\n",
    "# Introduce some NaN values\n",
    "df.iloc[0, 1] = np.nan\n",
    "df.iloc[2, 2] = np.nan\n",
    "df.iloc[4, 0] = np.nan\n",
    "print(\"DataFrame with NaN values:\")\n",
    "print(df)\n",
    "\n",
    "# Fill the NaN values with the mean of the respective columns\n",
    "df.fillna(df.mean(), inplace=True)\n",
    "print(\"DataFrame with NaN values filled:\")\n",
    "print(df)"
   ]
  },
  {
   "cell_type": "markdown",
   "metadata": {},
   "source": [
    "2. Create a Pandas DataFrame with 4 columns and 6 rows filled with random integers. Introduce some NaN values. Drop the rows with any NaN values."
   ]
  },
  {
   "cell_type": "code",
   "execution_count": 6,
   "metadata": {},
   "outputs": [
    {
     "name": "stdout",
     "output_type": "stream",
     "text": [
      "Original DataFrame:\n",
      "    A   B   C   D\n",
      "0  18  35  36  63\n",
      "1  41  25   5  13\n",
      "2  96   5  10  65\n",
      "3  86  85  57  59\n",
      "4  74   9  83  86\n",
      "5   9  37  31   4\n",
      "DataFrame with NaN values:\n",
      "      A     B     C   D\n",
      "0  18.0  35.0  36.0  63\n",
      "1  41.0  25.0   NaN  13\n",
      "2  96.0   5.0  10.0  65\n",
      "3   NaN  85.0  57.0  59\n",
      "4  74.0   9.0  83.0  86\n",
      "5   9.0   NaN  31.0   4\n",
      "DataFrame with NaN values dropped:\n",
      "      A     B     C   D\n",
      "0  18.0  35.0  36.0  63\n",
      "2  96.0   5.0  10.0  65\n",
      "4  74.0   9.0  83.0  86\n"
     ]
    }
   ],
   "source": [
    "# Create a Pandas DataFrame with 4 columns and 6 rows filled with random integers\n",
    "df = pd.DataFrame(np.random.randint(1, 100, size=(6, 4)), columns=['A', 'B', 'C', 'D'])\n",
    "print(\"Original DataFrame:\")\n",
    "print(df)\n",
    "\n",
    "# Introduce some NaN values\n",
    "df.iloc[1, 2] = np.nan\n",
    "df.iloc[3, 0] = np.nan\n",
    "df.iloc[5, 1] = np.nan\n",
    "print(\"DataFrame with NaN values:\")\n",
    "print(df)\n",
    "\n",
    "# Drop the rows with any NaN values\n",
    "df.dropna(inplace=True)\n",
    "print(\"DataFrame with NaN values dropped:\")\n",
    "print(df)"
   ]
  },
  {
   "cell_type": "markdown",
   "metadata": {},
   "source": [
    "### Assignment 4: Data Aggregation\n",
    "\n",
    "1. Create a Pandas DataFrame with 2 columns: 'Category' and 'Value'. Fill the 'Category' column with random categories ('A', 'B', 'C') and the 'Value' column with random integers. Group the DataFrame by 'Category' and compute the sum and mean of 'Value' for each category."
   ]
  },
  {
   "cell_type": "code",
   "execution_count": 7,
   "metadata": {},
   "outputs": [
    {
     "name": "stdout",
     "output_type": "stream",
     "text": [
      "Original DataFrame:\n",
      "  Category  Value\n",
      "0        A     56\n",
      "1        C     12\n",
      "2        A     39\n",
      "3        C     21\n",
      "4        C     44\n",
      "5        B     40\n",
      "6        B      1\n",
      "7        A     52\n",
      "8        C     98\n",
      "9        B     40\n",
      "Grouped DataFrame:\n",
      "          sum   mean\n",
      "Category            \n",
      "A         147  49.00\n",
      "B          81  27.00\n",
      "C         175  43.75\n"
     ]
    }
   ],
   "source": [
    "# Create a Pandas DataFrame with 2 columns: 'Category' and 'Value'\n",
    "df = pd.DataFrame({'Category': np.random.choice(['A', 'B', 'C'], size=10), 'Value': np.random.randint(1, 100, size=10)})\n",
    "print(\"Original DataFrame:\")\n",
    "print(df)\n",
    "\n",
    "# Group the DataFrame by 'Category' and compute the sum and mean of 'Value' for each category\n",
    "grouped = df.groupby('Category')['Value'].agg(['sum', 'mean'])\n",
    "print(\"Grouped DataFrame:\")\n",
    "print(grouped)"
   ]
  },
  {
   "cell_type": "markdown",
   "metadata": {},
   "source": [
    "2. Create a Pandas DataFrame with 3 columns: 'Product', 'Category', and 'Sales'. Fill the DataFrame with random data. Group the DataFrame by 'Category' and compute the total sales for each category."
   ]
  },
  {
   "cell_type": "code",
   "execution_count": 8,
   "metadata": {},
   "outputs": [
    {
     "name": "stdout",
     "output_type": "stream",
     "text": [
      "Original DataFrame:\n",
      "  Product Category  Sales\n",
      "0   Prod2        B     13\n",
      "1   Prod1        C     51\n",
      "2   Prod1        C     35\n",
      "3   Prod3        A     70\n",
      "4   Prod3        A     40\n",
      "5   Prod2        C     99\n",
      "6   Prod2        B     99\n",
      "7   Prod3        B     17\n",
      "8   Prod3        B     83\n",
      "9   Prod3        C     37\n",
      "Grouped DataFrame:\n",
      "Category\n",
      "A    110\n",
      "B    212\n",
      "C    222\n",
      "Name: Sales, dtype: int32\n"
     ]
    }
   ],
   "source": [
    "# Create a Pandas DataFrame with 3 columns: 'Product', 'Category', and 'Sales'\n",
    "df = pd.DataFrame({'Product': np.random.choice(['Prod1', 'Prod2', 'Prod3'], size=10), 'Category': np.random.choice(['A', 'B', 'C'], size=10), 'Sales': np.random.randint(1, 100, size=10)})\n",
    "print(\"Original DataFrame:\")\n",
    "print(df)\n",
    "\n",
    "# Group the DataFrame by 'Category' and compute the total sales for each category\n",
    "grouped = df.groupby('Category')['Sales'].sum()\n",
    "print(\"Grouped DataFrame:\")\n",
    "print(grouped)"
   ]
  },
  {
   "cell_type": "markdown",
   "metadata": {},
   "source": [
    "### Assignment 5: Merging DataFrames\n",
    "\n",
    "1. Create two Pandas DataFrames with a common column. Merge the DataFrames using the common column."
   ]
  },
  {
   "cell_type": "code",
   "execution_count": 9,
   "metadata": {},
   "outputs": [
    {
     "name": "stdout",
     "output_type": "stream",
     "text": [
      "DataFrame 1:\n",
      "  Key  Value1\n",
      "0   A      50\n",
      "1   B      35\n",
      "2   C      47\n",
      "3   D      41\n",
      "DataFrame 2:\n",
      "  Key  Value2\n",
      "0   A      18\n",
      "1   B      47\n",
      "2   C      99\n",
      "3   E      74\n",
      "Merged DataFrame:\n",
      "  Key  Value1  Value2\n",
      "0   A      50      18\n",
      "1   B      35      47\n",
      "2   C      47      99\n"
     ]
    }
   ],
   "source": [
    "# Create two Pandas DataFrames with a common column\n",
    "df1 = pd.DataFrame({'Key': ['A', 'B', 'C', 'D'], 'Value1': np.random.randint(1, 100, size=4)})\n",
    "df2 = pd.DataFrame({'Key': ['A', 'B', 'C', 'E'], 'Value2': np.random.randint(1, 100, size=4)})\n",
    "print(\"DataFrame 1:\")\n",
    "print(df1)\n",
    "print(\"DataFrame 2:\")\n",
    "print(df2)\n",
    "\n",
    "# Merge the DataFrames using the common column\n",
    "merged = pd.merge(df1, df2, on='Key')\n",
    "print(\"Merged DataFrame:\")\n",
    "print(merged)"
   ]
  },
  {
   "cell_type": "markdown",
   "metadata": {},
   "source": [
    "2. Create two Pandas DataFrames with different columns. Concatenate the DataFrames along the rows and along the columns."
   ]
  },
  {
   "cell_type": "code",
   "execution_count": 10,
   "metadata": {},
   "outputs": [
    {
     "name": "stdout",
     "output_type": "stream",
     "text": [
      "DataFrame 1:\n",
      "    A   B\n",
      "0  84  66\n",
      "1  44  35\n",
      "2  75  15\n",
      "DataFrame 2:\n",
      "    C   D\n",
      "0  89  57\n",
      "1  68  63\n",
      "2  93  94\n",
      "Concatenated DataFrame (rows):\n",
      "      A     B     C     D\n",
      "0  84.0  66.0   NaN   NaN\n",
      "1  44.0  35.0   NaN   NaN\n",
      "2  75.0  15.0   NaN   NaN\n",
      "0   NaN   NaN  89.0  57.0\n",
      "1   NaN   NaN  68.0  63.0\n",
      "2   NaN   NaN  93.0  94.0\n",
      "Concatenated DataFrame (columns):\n",
      "    A   B   C   D\n",
      "0  84  66  89  57\n",
      "1  44  35  68  63\n",
      "2  75  15  93  94\n"
     ]
    }
   ],
   "source": [
    "# Create two Pandas DataFrames with different columns\n",
    "df1 = pd.DataFrame({'A': np.random.randint(1, 100, size=3), 'B': np.random.randint(1, 100, size=3)})\n",
    "df2 = pd.DataFrame({'C': np.random.randint(1, 100, size=3), 'D': np.random.randint(1, 100, size=3)})\n",
    "print(\"DataFrame 1:\")\n",
    "print(df1)\n",
    "print(\"DataFrame 2:\")\n",
    "print(df2)\n",
    "\n",
    "# Concatenate the DataFrames along the rows\n",
    "concat_rows = pd.concat([df1, df2], axis=0)\n",
    "print(\"Concatenated DataFrame (rows):\")\n",
    "print(concat_rows)\n",
    "\n",
    "# Concatenate the DataFrames along the columns\n",
    "concat_columns = pd.concat([df1, df2], axis=1)\n",
    "print(\"Concatenated DataFrame (columns):\")\n",
    "print(concat_columns)"
   ]
  },
  {
   "cell_type": "markdown",
   "metadata": {},
   "source": [
    "### Assignment 6: Time Series Analysis\n",
    "\n",
    "1. Create a Pandas DataFrame with a datetime index and one column filled with random integers. Resample the DataFrame to compute the monthly mean of the values."
   ]
  },
  {
   "cell_type": "code",
   "execution_count": 11,
   "metadata": {},
   "outputs": [
    {
     "name": "stdout",
     "output_type": "stream",
     "text": [
      "Original DataFrame:\n",
      "            data\n",
      "date            \n",
      "2022-01-01    72\n",
      "2022-01-02    87\n",
      "2022-01-03    63\n",
      "2022-01-04    77\n",
      "2022-01-05    56\n",
      "...          ...\n",
      "2022-12-27    74\n",
      "2022-12-28    35\n",
      "2022-12-29    23\n",
      "2022-12-30    21\n",
      "2022-12-31    26\n",
      "\n",
      "[365 rows x 1 columns]\n",
      "Monthly mean DataFrame:\n",
      "                 data\n",
      "date                 \n",
      "2022-01-31  53.290323\n",
      "2022-02-28  54.928571\n",
      "2022-03-31  54.161290\n",
      "2022-04-30  46.966667\n",
      "2022-05-31  43.064516\n",
      "2022-06-30  42.966667\n",
      "2022-07-31  41.483871\n",
      "2022-08-31  53.258065\n",
      "2022-09-30  56.900000\n",
      "2022-10-31  54.580645\n",
      "2022-11-30  50.066667\n",
      "2022-12-31  35.870968\n"
     ]
    },
    {
     "name": "stderr",
     "output_type": "stream",
     "text": [
      "C:\\Users\\ASUS\\AppData\\Local\\Temp\\ipykernel_16616\\994453891.py:10: FutureWarning: 'M' is deprecated and will be removed in a future version, please use 'ME' instead.\n",
      "  monthly_mean = df.resample('M').mean()\n"
     ]
    }
   ],
   "source": [
    "# Create a Pandas DataFrame with a datetime index and one column filled with random integers\n",
    "date_rng = pd.date_range(start='2022-01-01', end='2022-12-31', freq='D')\n",
    "df = pd.DataFrame(date_rng, columns=['date'])\n",
    "df['data'] = np.random.randint(0, 100, size=(len(date_rng)))\n",
    "df.set_index('date', inplace=True)\n",
    "print(\"Original DataFrame:\")\n",
    "print(df)\n",
    "\n",
    "# Resample the DataFrame to compute the monthly mean of the values\n",
    "monthly_mean = df.resample('M').mean()\n",
    "print(\"Monthly mean DataFrame:\")\n",
    "print(monthly_mean)"
   ]
  },
  {
   "cell_type": "markdown",
   "metadata": {},
   "source": [
    "2. Create a Pandas DataFrame with a datetime index ranging from '2021-01-01' to '2021-12-31' and one column filled with random integers. Compute the rolling mean with a window of 7 days."
   ]
  },
  {
   "cell_type": "code",
   "execution_count": 12,
   "metadata": {},
   "outputs": [
    {
     "name": "stdout",
     "output_type": "stream",
     "text": [
      "Original DataFrame:\n",
      "            data\n",
      "date            \n",
      "2021-01-01    73\n",
      "2021-01-02     6\n",
      "2021-01-03    25\n",
      "2021-01-04    47\n",
      "2021-01-05    24\n",
      "...          ...\n",
      "2021-12-27    45\n",
      "2021-12-28    43\n",
      "2021-12-29    12\n",
      "2021-12-30    88\n",
      "2021-12-31    73\n",
      "\n",
      "[365 rows x 1 columns]\n",
      "Rolling mean DataFrame:\n",
      "                 data\n",
      "date                 \n",
      "2021-01-01        NaN\n",
      "2021-01-02        NaN\n",
      "2021-01-03        NaN\n",
      "2021-01-04        NaN\n",
      "2021-01-05        NaN\n",
      "...               ...\n",
      "2021-12-27  56.571429\n",
      "2021-12-28  61.142857\n",
      "2021-12-29  50.142857\n",
      "2021-12-30  55.571429\n",
      "2021-12-31  52.428571\n",
      "\n",
      "[365 rows x 1 columns]\n"
     ]
    }
   ],
   "source": [
    "# Create a Pandas DataFrame with a datetime index ranging from '2021-01-01' to '2021-12-31'\n",
    "date_rng = pd.date_range(start='2021-01-01', end='2021-12-31', freq='D')\n",
    "df = pd.DataFrame(date_rng, columns=['date'])\n",
    "df['data'] = np.random.randint(0, 100, size=(len(date_rng)))\n",
    "df.set_index('date', inplace=True)\n",
    "print(\"Original DataFrame:\")\n",
    "print(df)\n",
    "\n",
    "# Compute the rolling mean with a window of 7 days\n",
    "rolling_mean = df.rolling(window=7).mean()\n",
    "print(\"Rolling mean DataFrame:\")\n",
    "print(rolling_mean)"
   ]
  },
  {
   "cell_type": "markdown",
   "metadata": {},
   "source": [
    "### Assignment 7: MultiIndex DataFrame\n",
    "\n",
    "1. Create a Pandas DataFrame with a MultiIndex (hierarchical index). Perform some basic indexing and slicing operations on the MultiIndex DataFrame."
   ]
  },
  {
   "cell_type": "code",
   "execution_count": 13,
   "metadata": {},
   "outputs": [
    {
     "name": "stdout",
     "output_type": "stream",
     "text": [
      "MultiIndex DataFrame:\n",
      "                      Value1  Value2  Value3\n",
      "Category SubCategory                        \n",
      "A        one              66      63      76\n",
      "         two              91      39      67\n",
      "B        one              65      89      44\n",
      "         two              27      32      39\n",
      "Indexing at Category 'A':\n",
      "             Value1  Value2  Value3\n",
      "SubCategory                        \n",
      "one              66      63      76\n",
      "two              91      39      67\n",
      "Slicing at Category 'B' and SubCategory 'two':\n",
      "Value1    27\n",
      "Value2    32\n",
      "Value3    39\n",
      "Name: (B, two), dtype: int32\n"
     ]
    }
   ],
   "source": [
    "# Create a Pandas DataFrame with a MultiIndex (hierarchical index)\n",
    "arrays = [['A', 'A', 'B', 'B'], ['one', 'two', 'one', 'two']]\n",
    "index = pd.MultiIndex.from_arrays(arrays, names=('Category', 'SubCategory'))\n",
    "df = pd.DataFrame(np.random.randint(1, 100, size=(4, 3)), index=index, columns=['Value1', 'Value2', 'Value3'])\n",
    "print(\"MultiIndex DataFrame:\")\n",
    "print(df)\n",
    "\n",
    "# Basic indexing and slicing operations\n",
    "print(\"Indexing at Category 'A':\")\n",
    "print(df.loc['A'])\n",
    "\n",
    "print(\"Slicing at Category 'B' and SubCategory 'two':\")\n",
    "print(df.loc[('B', 'two')])"
   ]
  },
  {
   "cell_type": "markdown",
   "metadata": {},
   "source": [
    "2. Create a Pandas DataFrame with MultiIndex consisting of 'Category' and 'SubCategory'. Fill the DataFrame with random data and compute the sum of values for each 'Category' and 'SubCategory'."
   ]
  },
  {
   "cell_type": "code",
   "execution_count": 14,
   "metadata": {},
   "outputs": [
    {
     "name": "stdout",
     "output_type": "stream",
     "text": [
      "MultiIndex DataFrame:\n",
      "                      Value1  Value2  Value3\n",
      "Category SubCategory                        \n",
      "A        one              89       2      16\n",
      "         two              56      42      21\n",
      "B        one              15      73      19\n",
      "         two              41      87      50\n",
      "C        one              85      38      58\n",
      "         two              48      21      78\n",
      "Sum of values:\n",
      "                      Value1  Value2  Value3\n",
      "Category SubCategory                        \n",
      "A        one              89       2      16\n",
      "         two              56      42      21\n",
      "B        one              15      73      19\n",
      "         two              41      87      50\n",
      "C        one              85      38      58\n",
      "         two              48      21      78\n"
     ]
    }
   ],
   "source": [
    "# Create a Pandas DataFrame with MultiIndex consisting of 'Category' and 'SubCategory'\n",
    "arrays = [['A', 'A', 'B', 'B', 'C', 'C'], ['one', 'two', 'one', 'two', 'one', 'two']]\n",
    "index = pd.MultiIndex.from_arrays(arrays, names=('Category', 'SubCategory'))\n",
    "df = pd.DataFrame(np.random.randint(1, 100, size=(6, 3)), index=index, columns=['Value1', 'Value2', 'Value3'])\n",
    "print(\"MultiIndex DataFrame:\")\n",
    "print(df)\n",
    "\n",
    "# Compute the sum of values for each 'Category' and 'SubCategory'\n",
    "sum_values = df.groupby(['Category', 'SubCategory']).sum()\n",
    "print(\"Sum of values:\")\n",
    "print(sum_values)"
   ]
  },
  {
   "cell_type": "markdown",
   "metadata": {},
   "source": [
    "### Assignment 8: Pivot Tables\n",
    "\n",
    "1. Create a Pandas DataFrame with columns 'Date', 'Category', and 'Value'. Create a pivot table to compute the sum of 'Value' for each 'Category' by 'Date'."
   ]
  },
  {
   "cell_type": "code",
   "execution_count": 15,
   "metadata": {},
   "outputs": [
    {
     "name": "stdout",
     "output_type": "stream",
     "text": [
      "Original DataFrame:\n",
      "         Date Category  Value\n",
      "0  2022-01-10        B     80\n",
      "1  2022-01-06        C     68\n",
      "2  2022-01-09        C     18\n",
      "3  2022-01-10        A     31\n",
      "4  2022-01-03        A     51\n",
      "5  2022-01-04        B     28\n",
      "6  2022-01-06        B     38\n",
      "7  2022-01-05        B     18\n",
      "8  2022-01-06        B     52\n",
      "9  2022-01-03        A     71\n",
      "10 2022-01-10        A     63\n",
      "11 2022-01-07        C     82\n",
      "12 2022-01-08        C     62\n",
      "13 2022-01-05        A     62\n",
      "14 2022-01-03        C     96\n",
      "15 2022-01-09        B     85\n",
      "16 2022-01-10        C     22\n",
      "17 2022-01-10        C     31\n",
      "18 2022-01-06        B     25\n",
      "19 2022-01-09        B     71\n",
      "Pivot Table:\n",
      "Category        A      B     C\n",
      "Date                          \n",
      "2022-01-03  122.0    NaN  96.0\n",
      "2022-01-04    NaN   28.0   NaN\n",
      "2022-01-05   62.0   18.0   NaN\n",
      "2022-01-06    NaN  115.0  68.0\n",
      "2022-01-07    NaN    NaN  82.0\n",
      "2022-01-08    NaN    NaN  62.0\n",
      "2022-01-09    NaN  156.0  18.0\n",
      "2022-01-10   94.0   80.0  53.0\n"
     ]
    }
   ],
   "source": [
    "# Create a Pandas DataFrame with columns 'Date', 'Category', and 'Value'\n",
    "date_rng = pd.date_range(start='2022-01-01', end='2022-01-10', freq='D')\n",
    "df = pd.DataFrame({'Date': np.random.choice(date_rng, size=20), 'Category': np.random.choice(['A', 'B', 'C'], size=20), 'Value': np.random.randint(1, 100, size=20)})\n",
    "print(\"Original DataFrame:\")\n",
    "print(df)\n",
    "\n",
    "# Create a pivot table to compute the sum of 'Value' for each 'Category' by 'Date'\n",
    "pivot_table = df.pivot_table(values='Value', index='Date', columns='Category', aggfunc='sum')\n",
    "print(\"Pivot Table:\")\n",
    "print(pivot_table)"
   ]
  },
  {
   "cell_type": "markdown",
   "metadata": {},
   "source": [
    "2. Create a Pandas DataFrame with columns 'Year', 'Quarter', and 'Revenue'. Create a pivot table to compute the mean 'Revenue' for each 'Quarter' by 'Year'."
   ]
  },
  {
   "cell_type": "code",
   "execution_count": 16,
   "metadata": {},
   "outputs": [
    {
     "name": "stdout",
     "output_type": "stream",
     "text": [
      "Original DataFrame:\n",
      "    Year Quarter  Revenue\n",
      "0   2022      Q1      685\n",
      "1   2021      Q1      961\n",
      "2   2021      Q4      599\n",
      "3   2022      Q1      962\n",
      "4   2020      Q4      881\n",
      "5   2022      Q4       14\n",
      "6   2022      Q4      617\n",
      "7   2021      Q3      528\n",
      "8   2021      Q1      905\n",
      "9   2021      Q3      304\n",
      "10  2021      Q2      987\n",
      "11  2022      Q1       28\n",
      "Pivot Table:\n",
      "Quarter          Q1     Q2     Q3     Q4\n",
      "Year                                    \n",
      "2020            NaN    NaN    NaN  881.0\n",
      "2021     933.000000  987.0  416.0  599.0\n",
      "2022     558.333333    NaN    NaN  315.5\n"
     ]
    }
   ],
   "source": [
    "# Create a Pandas DataFrame with columns 'Year', 'Quarter', and 'Revenue'\n",
    "df = pd.DataFrame({'Year': np.random.choice([2020, 2021, 2022], size=12), 'Quarter': np.random.choice(['Q1', 'Q2', 'Q3', 'Q4'], size=12), 'Revenue': np.random.randint(1, 1000, size=12)})\n",
    "print(\"Original DataFrame:\")\n",
    "print(df)\n",
    "\n",
    "# Create a pivot table to compute the mean 'Revenue' for each 'Quarter' by 'Year'\n",
    "pivot_table = df.pivot_table(values='Revenue', index='Year', columns='Quarter', aggfunc='mean')\n",
    "print(\"Pivot Table:\")\n",
    "print(pivot_table)"
   ]
  },
  {
   "cell_type": "markdown",
   "metadata": {},
   "source": [
    "### Assignment 9: Applying Functions\n",
    "\n",
    "1. Create a Pandas DataFrame with 3 columns and 5 rows filled with random integers. Apply a function that doubles the values of the DataFrame."
   ]
  },
  {
   "cell_type": "code",
   "execution_count": 17,
   "metadata": {},
   "outputs": [
    {
     "name": "stdout",
     "output_type": "stream",
     "text": [
      "Original DataFrame:\n",
      "    A   B   C\n",
      "0   3  28  75\n",
      "1  91  33  35\n",
      "2   1  30  42\n",
      "3  24  32  62\n",
      "4  58  94  56\n",
      "Doubled DataFrame:\n",
      "     A    B    C\n",
      "0    6   56  150\n",
      "1  182   66   70\n",
      "2    2   60   84\n",
      "3   48   64  124\n",
      "4  116  188  112\n"
     ]
    },
    {
     "name": "stderr",
     "output_type": "stream",
     "text": [
      "C:\\Users\\ASUS\\AppData\\Local\\Temp\\ipykernel_16616\\3315638500.py:7: FutureWarning: DataFrame.applymap has been deprecated. Use DataFrame.map instead.\n",
      "  df_doubled = df.applymap(lambda x: x * 2)\n"
     ]
    }
   ],
   "source": [
    "# Create a Pandas DataFrame with 3 columns and 5 rows filled with random integers\n",
    "df = pd.DataFrame(np.random.randint(1, 100, size=(5, 3)), columns=['A', 'B', 'C'])\n",
    "print(\"Original DataFrame:\")\n",
    "print(df)\n",
    "\n",
    "# Apply a function that doubles the values of the DataFrame\n",
    "df_doubled = df.applymap(lambda x: x * 2)\n",
    "print(\"Doubled DataFrame:\")\n",
    "print(df_doubled)"
   ]
  },
  {
   "cell_type": "markdown",
   "metadata": {},
   "source": [
    "2. Create a Pandas DataFrame with 3 columns and 6 rows filled with random integers. Apply a lambda function to create a new column that is the sum of the existing columns."
   ]
  },
  {
   "cell_type": "code",
   "execution_count": 18,
   "metadata": {},
   "outputs": [
    {
     "name": "stdout",
     "output_type": "stream",
     "text": [
      "Original DataFrame:\n",
      "    A   B   C\n",
      "0  10  44  86\n",
      "1  62  48  81\n",
      "2  35  40  52\n",
      "3  55  80  11\n",
      "4  41  15  91\n",
      "5  19  75  64\n",
      "DataFrame with Sum column:\n",
      "    A   B   C  Sum\n",
      "0  10  44  86  140\n",
      "1  62  48  81  191\n",
      "2  35  40  52  127\n",
      "3  55  80  11  146\n",
      "4  41  15  91  147\n",
      "5  19  75  64  158\n"
     ]
    }
   ],
   "source": [
    "# Create a Pandas DataFrame with 3 columns and 6 rows filled with random integers\n",
    "df = pd.DataFrame(np.random.randint(1, 100, size=(6, 3)), columns=['A', 'B', 'C'])\n",
    "print(\"Original DataFrame:\")\n",
    "print(df)\n",
    "\n",
    "# Apply a lambda function to create a new column that is the sum of the existing columns\n",
    "df['Sum'] = df.apply(lambda row: row.sum(), axis=1)\n",
    "print(\"DataFrame with Sum column:\")\n",
    "print(df)"
   ]
  },
  {
   "cell_type": "markdown",
   "metadata": {},
   "source": [
    "### Assignment 10: Working with Text Data\n",
    "\n",
    "1. Create a Pandas Series with 5 random text strings. Convert all the strings to uppercase."
   ]
  },
  {
   "cell_type": "code",
   "execution_count": 19,
   "metadata": {},
   "outputs": [
    {
     "name": "stdout",
     "output_type": "stream",
     "text": [
      "Original Series:\n",
      "0         apple\n",
      "1        banana\n",
      "2        cherry\n",
      "3          date\n",
      "4    elderberry\n",
      "dtype: object\n",
      "Uppercase Series:\n",
      "0         APPLE\n",
      "1        BANANA\n",
      "2        CHERRY\n",
      "3          DATE\n",
      "4    ELDERBERRY\n",
      "dtype: object\n"
     ]
    }
   ],
   "source": [
    "# Create a Pandas Series with 5 random text strings\n",
    "text_data = pd.Series(['apple', 'banana', 'cherry', 'date', 'elderberry'])\n",
    "print(\"Original Series:\")\n",
    "print(text_data)\n",
    "\n",
    "# Convert all the strings to uppercase\n",
    "uppercase_data = text_data.str.upper()\n",
    "print(\"Uppercase Series:\")\n",
    "print(uppercase_data)"
   ]
  },
  {
   "cell_type": "markdown",
   "metadata": {},
   "source": [
    "2. Create a Pandas Series with 5 random text strings. Extract the first three characters of each string."
   ]
  },
  {
   "cell_type": "code",
   "execution_count": 20,
   "metadata": {},
   "outputs": [
    {
     "name": "stdout",
     "output_type": "stream",
     "text": [
      "Original Series:\n",
      "0         apple\n",
      "1        banana\n",
      "2        cherry\n",
      "3          date\n",
      "4    elderberry\n",
      "dtype: object\n",
      "First three characters:\n",
      "0    app\n",
      "1    ban\n",
      "2    che\n",
      "3    dat\n",
      "4    eld\n",
      "dtype: object\n"
     ]
    }
   ],
   "source": [
    "# Create a Pandas Series with 5 random text strings\n",
    "text_data = pd.Series(['apple', 'banana', 'cherry', 'date', 'elderberry'])\n",
    "print(\"Original Series:\")\n",
    "print(text_data)\n",
    "\n",
    "# Extract the first three characters of each string\n",
    "first_three_chars = text_data.str[:3]\n",
    "print(\"First three characters:\")\n",
    "print(first_three_chars)"
   ]
  }
 ],
 "metadata": {
  "kernelspec": {
   "display_name": "Python 3",
   "language": "python",
   "name": "python3"
  },
  "language_info": {
   "codemirror_mode": {
    "name": "ipython",
    "version": 3
   },
   "file_extension": ".py",
   "mimetype": "text/x-python",
   "name": "python",
   "nbconvert_exporter": "python",
   "pygments_lexer": "ipython3",
   "version": "3.12.0"
  }
 },
 "nbformat": 4,
 "nbformat_minor": 5
}
