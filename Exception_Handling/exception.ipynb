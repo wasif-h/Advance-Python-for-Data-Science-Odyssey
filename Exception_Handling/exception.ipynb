{
 "cells": [
  {
   "cell_type": "markdown",
   "id": "3d2c576d",
   "metadata": {},
   "source": [
    "# Exception Handling"
   ]
  },
  {
   "cell_type": "markdown",
   "id": "eddc525e",
   "metadata": {},
   "source": [
    "### Name Error"
   ]
  },
  {
   "cell_type": "code",
   "execution_count": null,
   "id": "7533ee13",
   "metadata": {},
   "outputs": [
    {
     "ename": "NameError",
     "evalue": "name 'b' is not defined",
     "output_type": "error",
     "traceback": [
      "\u001b[31m---------------------------------------------------------------------------\u001b[39m",
      "\u001b[31mNameError\u001b[39m                                 Traceback (most recent call last)",
      "\u001b[36mCell\u001b[39m\u001b[36m \u001b[39m\u001b[32mIn[1]\u001b[39m\u001b[32m, line 1\u001b[39m\n\u001b[32m----> \u001b[39m\u001b[32m1\u001b[39m a = \u001b[43mb\u001b[49m\n",
      "\u001b[31mNameError\u001b[39m: name 'b' is not defined"
     ]
    }
   ],
   "source": [
    "a = b\n",
    "# will show name error  "
   ]
  },
  {
   "cell_type": "code",
   "execution_count": 2,
   "id": "e094980d",
   "metadata": {},
   "outputs": [
    {
     "name": "stdout",
     "output_type": "stream",
     "text": [
      "the variable is not defined\n"
     ]
    }
   ],
   "source": [
    "try:\n",
    "    a = b\n",
    "except:\n",
    "    print(\"the variable is not defined\")"
   ]
  },
  {
   "cell_type": "code",
   "execution_count": 4,
   "id": "4881d1e7",
   "metadata": {},
   "outputs": [
    {
     "name": "stdout",
     "output_type": "stream",
     "text": [
      "We got an issue here\n",
      " name 'b' is not defined\n"
     ]
    }
   ],
   "source": [
    "# lets also show the name error \n",
    "try:\n",
    "    a = b\n",
    "except NameError as NE:\n",
    "    print(\"We got an issue here\\n\",NE)"
   ]
  },
  {
   "cell_type": "markdown",
   "id": "5522ca23",
   "metadata": {},
   "source": [
    "### Zero Division"
   ]
  },
  {
   "cell_type": "code",
   "execution_count": 5,
   "id": "1ab051b9",
   "metadata": {},
   "outputs": [
    {
     "ename": "ZeroDivisionError",
     "evalue": "division by zero",
     "output_type": "error",
     "traceback": [
      "\u001b[31m---------------------------------------------------------------------------\u001b[39m",
      "\u001b[31mZeroDivisionError\u001b[39m                         Traceback (most recent call last)",
      "\u001b[36mCell\u001b[39m\u001b[36m \u001b[39m\u001b[32mIn[5]\u001b[39m\u001b[32m, line 1\u001b[39m\n\u001b[32m----> \u001b[39m\u001b[32m1\u001b[39m result = \u001b[32;43m1\u001b[39;49m\u001b[43m/\u001b[49m\u001b[32;43m0\u001b[39;49m\n",
      "\u001b[31mZeroDivisionError\u001b[39m: division by zero"
     ]
    }
   ],
   "source": [
    "result = 1/0"
   ]
  },
  {
   "cell_type": "code",
   "execution_count": 7,
   "id": "bc23aadb",
   "metadata": {},
   "outputs": [
    {
     "name": "stdout",
     "output_type": "stream",
     "text": [
      "division by zero\n",
      "Enter denominator greater than zero\n"
     ]
    }
   ],
   "source": [
    "try:\n",
    "    result = 1/0\n",
    "except ZeroDivisionError as ex:\n",
    "    print(ex)\n",
    "    print(\"Enter denominator greater than zero\")"
   ]
  },
  {
   "cell_type": "code",
   "execution_count": null,
   "id": "70ddd520",
   "metadata": {},
   "outputs": [],
   "source": []
  },
  {
   "cell_type": "code",
   "execution_count": 8,
   "id": "922bb5e9",
   "metadata": {},
   "outputs": [
    {
     "name": "stdout",
     "output_type": "stream",
     "text": [
      "name 'b' is not defined\n"
     ]
    }
   ],
   "source": [
    "# what if there are many eror in a block of code \n",
    "\n",
    "try:\n",
    "    # here two instruction can get error\n",
    "    result = 1/2\n",
    "    a = b\n",
    "except ZeroDivisionError as ex1:\n",
    "    print(ex1)\n",
    "# now we we write a exception which is default\n",
    "except Exception as ex2:\n",
    "    # exception handles all the errors alone\n",
    "    print(ex2)\n",
    "    \n"
   ]
  },
  {
   "cell_type": "code",
   "execution_count": null,
   "id": "c6804947",
   "metadata": {},
   "outputs": [
    {
     "name": "stdout",
     "output_type": "stream",
     "text": [
      "invalid literal for int() with base 10: 'str'\n",
      "This is not a valid number\n"
     ]
    }
   ],
   "source": [
    "# we can also put so many exception based on the sequence\n",
    "\n",
    "try:\n",
    "    num = int(input(\"Enter a number : \"))\n",
    "    result = 10/num\n",
    "    print(result)\n",
    "    \n",
    "except ValueError as ex1:\n",
    "    print(ex1,\"This is not a valid number\",sep=\"\\n\")\n",
    "except ZeroDivisionError as ex2:\n",
    "    print(ex2,\"Can't Divide by Zero\",sep=\"\\n\")\n",
    "except Exception as ex3:\n",
    "    print(ex3)\n",
    "    \n",
    "# check this code entering 3,'hello',0 "
   ]
  },
  {
   "cell_type": "code",
   "execution_count": null,
   "id": "76c7e563",
   "metadata": {},
   "outputs": [
    {
     "name": "stdout",
     "output_type": "stream",
     "text": [
      "Result =  3.3333333333333335\n"
     ]
    }
   ],
   "source": [
    "# try except else \n",
    "# lets copy the same code above\n",
    "\n",
    "try:\n",
    "    num = int(input(\"Enter a number : \"))\n",
    "    result = 10/num\n",
    "    \n",
    "except ValueError as ex1:\n",
    "    print(ex1,\"This is not a valid number\",sep=\"\\n\")\n",
    "except ZeroDivisionError as ex2:\n",
    "    print(ex2,\"Can't Divide by Zero\",sep=\"\\n\")\n",
    "except Exception as ex3:\n",
    "    print(ex3)\n",
    "    \n",
    "else:\n",
    "#     else will be executed if try works\n",
    "#     and not be executed if except works\n",
    "    print(\"Result = \",result)\n"
   ]
  },
  {
   "cell_type": "code",
   "execution_count": 17,
   "id": "9c37a29b",
   "metadata": {},
   "outputs": [
    {
     "name": "stdout",
     "output_type": "stream",
     "text": [
      "division by zero\n",
      "Can't Divide by Zero\n",
      "Input Value :  0\n",
      "Execution Completed\n"
     ]
    }
   ],
   "source": [
    "try:\n",
    "    num = int(input(\"Enter a number : \"))\n",
    "    result = 10/num\n",
    "    \n",
    "except ValueError as ex1:\n",
    "    print(ex1,\"This is not a valid number\",sep=\"\\n\")\n",
    "except ZeroDivisionError as ex2:\n",
    "    print(ex2,\"Can't Divide by Zero\",sep=\"\\n\")\n",
    "except Exception as ex3:\n",
    "    print(ex3)\n",
    "    \n",
    "else:\n",
    "#     else will be executed if try works\n",
    "#     and not be executed if except works\n",
    "    print(\"Result = \",result)\n",
    "\n",
    "finally:\n",
    "    # it will be executed for sure, no matter what happened\n",
    "    print(\"Input Value : \",num)\n",
    "    print(\"Execution Completed\")\n"
   ]
  },
  {
   "cell_type": "code",
   "execution_count": null,
   "id": "9dbdb34a",
   "metadata": {},
   "outputs": [],
   "source": []
  },
  {
   "cell_type": "markdown",
   "id": "549826b8",
   "metadata": {},
   "source": []
  },
  {
   "cell_type": "code",
   "execution_count": null,
   "id": "d006683f",
   "metadata": {},
   "outputs": [],
   "source": []
  },
  {
   "cell_type": "code",
   "execution_count": null,
   "metadata": {},
   "outputs": [],
   "source": []
  },
  {
   "cell_type": "code",
   "execution_count": null,
   "id": "4a484d3f",
   "metadata": {},
   "outputs": [],
   "source": []
  },
  {
   "cell_type": "code",
   "execution_count": null,
   "id": "21b53990",
   "metadata": {},
   "outputs": [],
   "source": []
  },
  {
   "cell_type": "code",
   "execution_count": null,
   "id": "2787ac25",
   "metadata": {},
   "outputs": [],
   "source": []
  }
 ],
 "metadata": {
  "kernelspec": {
   "display_name": "Python 3",
   "language": "python",
   "name": "python3"
  },
  "language_info": {
   "codemirror_mode": {
    "name": "ipython",
    "version": 3
   },
   "file_extension": ".py",
   "mimetype": "text/x-python",
   "name": "python",
   "nbconvert_exporter": "python",
   "pygments_lexer": "ipython3",
   "version": "3.12.0"
  }
 },
 "nbformat": 4,
 "nbformat_minor": 5
}
