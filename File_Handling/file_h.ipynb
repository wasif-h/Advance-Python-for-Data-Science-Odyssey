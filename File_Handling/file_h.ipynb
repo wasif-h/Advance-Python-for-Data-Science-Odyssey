{
 "cells": [
  {
   "cell_type": "markdown",
   "id": "c1d0b1ee",
   "metadata": {},
   "source": [
    "# File Handling"
   ]
  },
  {
   "cell_type": "code",
   "execution_count": 1,
   "id": "81e80987",
   "metadata": {},
   "outputs": [
    {
     "name": "stdout",
     "output_type": "stream",
     "text": [
      "Hello World\n",
      "Cristiano Ronaldo\n",
      "Appen operation\n",
      "Appen operation\n",
      "first line\n",
      "second line\n",
      "thirdline\n",
      "\n"
     ]
    }
   ],
   "source": [
    "# reading file \n",
    "\n",
    "with open(\"exampl.txt\",'r') as file:\n",
    "    content = file.read()\n",
    "    \n",
    "print(content) "
   ]
  },
  {
   "cell_type": "code",
   "execution_count": 2,
   "id": "a32aee42",
   "metadata": {},
   "outputs": [
    {
     "name": "stdout",
     "output_type": "stream",
     "text": [
      "Hello World\n",
      "Cristiano Ronaldo\n",
      "Appen operation\n",
      "Appen operation\n",
      "first line\n",
      "second line\n",
      "thirdline\n"
     ]
    }
   ],
   "source": [
    "# reading file line by line \n",
    "\n",
    "with open(\"exampl.txt\",'r') as file:\n",
    "    for line in file:\n",
    "        print(line.strip())\n",
    "        # strip removes new line "
   ]
  },
  {
   "cell_type": "code",
   "execution_count": 3,
   "id": "914206c8",
   "metadata": {},
   "outputs": [],
   "source": [
    "# writting a file (0verwrite )\n",
    "\n",
    "with open(\"exampl.txt\",'w') as file:\n",
    "    file.write(\"Hello World\\n\")\n",
    "    file.write(\"Cristiano Ronaldo\\n\")\n",
    "    \n",
    "    # entire content would be over written \n",
    "    "
   ]
  },
  {
   "cell_type": "code",
   "execution_count": 4,
   "id": "fe216ffe",
   "metadata": {},
   "outputs": [],
   "source": [
    "# writting without overwritting \n",
    "\n",
    "with open(\"exampl.txt\",'a') as file:\n",
    "    file.write(\"Append operation\\n\")\n",
    "    "
   ]
  },
  {
   "cell_type": "code",
   "execution_count": 5,
   "id": "1c7f615a",
   "metadata": {},
   "outputs": [],
   "source": [
    "# writting list of lines to a file \n",
    "\n",
    "lines = ['first line\\n','second line\\n','thirdline\\n']\n",
    "\n",
    "with open(\"exampl.txt\",'a') as file:\n",
    "    file.writelines(lines)\n",
    "\n"
   ]
  },
  {
   "cell_type": "code",
   "execution_count": 6,
   "id": "bb35f1d7",
   "metadata": {},
   "outputs": [],
   "source": [
    "# binary files \n",
    "\n",
    "data = b'\\x00\\x01\\x02\\x03\\x04'\n",
    "\n",
    "with open(\"example.bin\",'wb') as file:\n",
    "    file.write(data)\n",
    "\n"
   ]
  },
  {
   "cell_type": "code",
   "execution_count": 7,
   "id": "379ead32",
   "metadata": {},
   "outputs": [
    {
     "name": "stdout",
     "output_type": "stream",
     "text": [
      "b'\\x00\\x01\\x02\\x03\\x04'\n"
     ]
    }
   ],
   "source": [
    "# reading binary \n",
    "\n",
    "with open(\"example.bin\",'rb') as file:\n",
    "    content = file.read()\n",
    "print(content)"
   ]
  },
  {
   "cell_type": "code",
   "execution_count": 8,
   "id": "9331615b",
   "metadata": {},
   "outputs": [
    {
     "name": "stdout",
     "output_type": "stream",
     "text": [
      "1.This is newfile\n",
      "2.Lets experiment on  it\n",
      "\n"
     ]
    }
   ],
   "source": [
    "# writting and after reading- both operation together \n",
    "\n",
    "with open(\"newfile.txt\",'w+') as file:\n",
    "    # writting the file, if exists it will be overwritten\n",
    "    file.write(\"1.This is newfile\\n\")\n",
    "    file.write(\"2.Lets experiment on  it\\n\")\n",
    "    \n",
    "    # it will change the cursor to the beginning for reading it from the beginning\n",
    "    file.seek(0)\n",
    "    \n",
    "    # reading the file \n",
    "    content = file.read()\n",
    "    print(content)\n",
    "\n"
   ]
  },
  {
   "cell_type": "code",
   "execution_count": null,
   "id": "811ec17e",
   "metadata": {},
   "outputs": [],
   "source": []
  }
 ],
 "metadata": {
  "kernelspec": {
   "display_name": "Python 3",
   "language": "python",
   "name": "python3"
  },
  "language_info": {
   "codemirror_mode": {
    "name": "ipython",
    "version": 3
   },
   "file_extension": ".py",
   "mimetype": "text/x-python",
   "name": "python",
   "nbconvert_exporter": "python",
   "pygments_lexer": "ipython3",
   "version": "3.12.0"
  }
 },
 "nbformat": 4,
 "nbformat_minor": 5
}
