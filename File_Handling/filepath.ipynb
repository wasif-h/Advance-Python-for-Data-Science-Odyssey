{
 "cells": [
  {
   "cell_type": "markdown",
   "id": "3118a7fd",
   "metadata": {},
   "source": [
    "# Filepath"
   ]
  },
  {
   "cell_type": "code",
   "execution_count": 3,
   "id": "f2a64fb1",
   "metadata": {},
   "outputs": [
    {
     "name": "stdout",
     "output_type": "stream",
     "text": [
      "w:\\AI_Learning\\DSKN\\Advance-Python-for-Data-Science-Odyssey\\File_Handling\n"
     ]
    }
   ],
   "source": [
    "import os\n",
    "\n",
    "print(os.getcwd())"
   ]
  },
  {
   "cell_type": "code",
   "execution_count": 4,
   "id": "83c4af17",
   "metadata": {},
   "outputs": [],
   "source": [
    "newdir = 'package'\n",
    "os.mkdir(newdir)"
   ]
  },
  {
   "cell_type": "code",
   "execution_count": 5,
   "id": "ee80f638",
   "metadata": {},
   "outputs": [
    {
     "name": "stdout",
     "output_type": "stream",
     "text": [
      "['exampl.txt', 'example.bin', 'filepath.ipynb', 'file_h.ipynb', 'newfile.txt', 'package']\n"
     ]
    }
   ],
   "source": [
    "items = os.listdir('.') # dot for mentioning the current dir\n",
    "print(items)"
   ]
  },
  {
   "cell_type": "code",
   "execution_count": 6,
   "id": "eb302d6f",
   "metadata": {},
   "outputs": [
    {
     "name": "stdout",
     "output_type": "stream",
     "text": [
      "w:\\AI_Learning\\DSKN\\Advance-Python-for-Data-Science-Odyssey\\File_Handling\\folder1\\new.txt\n"
     ]
    }
   ],
   "source": [
    "# lets create path for doing any file operation\n",
    "\n",
    "folder_name = \"folder1\"\n",
    "file_name = \"new.txt\"\n",
    "cwd = os.getcwd()\n",
    "\n",
    "full_path = os.path.join(cwd,folder_name,file_name)\n",
    "print(full_path)"
   ]
  },
  {
   "cell_type": "code",
   "execution_count": null,
   "id": "fe8cb88f",
   "metadata": {},
   "outputs": [],
   "source": []
  }
 ],
 "metadata": {
  "kernelspec": {
   "display_name": "Python 3",
   "language": "python",
   "name": "python3"
  },
  "language_info": {
   "codemirror_mode": {
    "name": "ipython",
    "version": 3
   },
   "file_extension": ".py",
   "mimetype": "text/x-python",
   "name": "python",
   "nbconvert_exporter": "python",
   "pygments_lexer": "ipython3",
   "version": "3.12.0"
  }
 },
 "nbformat": 4,
 "nbformat_minor": 5
}
