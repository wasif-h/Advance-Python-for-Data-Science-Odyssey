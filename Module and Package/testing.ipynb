{
 "cells": [
  {
   "cell_type": "markdown",
   "id": "60b0df54",
   "metadata": {},
   "source": [
    "# module and package"
   ]
  },
  {
   "cell_type": "code",
   "execution_count": 1,
   "id": "eac941c7",
   "metadata": {},
   "outputs": [
    {
     "name": "stdout",
     "output_type": "stream",
     "text": [
      "3.0\n"
     ]
    }
   ],
   "source": [
    "# some modules comes with python installation\n",
    "\n",
    "import math\n",
    "print(math.sqrt(9))\n"
   ]
  },
  {
   "cell_type": "code",
   "execution_count": null,
   "id": "7923434f",
   "metadata": {},
   "outputs": [
    {
     "name": "stdout",
     "output_type": "stream",
     "text": [
      "3.0\n",
      "Value of pi  3.141592653589793\n"
     ]
    }
   ],
   "source": [
    "# to make this more directional and short\n",
    "\n",
    "from math import sqrt, pi\n",
    "\n",
    "# we can import all function by \n",
    "# from math import *\n",
    "\n",
    "print(sqrt(9))\n",
    "print(\"Value of pi \",pi)"
   ]
  },
  {
   "cell_type": "code",
   "execution_count": null,
   "id": "bc082c12",
   "metadata": {},
   "outputs": [
    {
     "data": {
      "text/plain": [
       "array([1, 2, 3])"
      ]
     },
     "execution_count": 4,
     "metadata": {},
     "output_type": "execute_result"
    }
   ],
   "source": [
    "# some modules doesn't come with default python\n",
    "import numpy as np\n",
    "# here np is alias, it means nickname\n",
    "\n",
    "np.array([1,2,3])"
   ]
  },
  {
   "cell_type": "code",
   "execution_count": 5,
   "id": "0bab3b22",
   "metadata": {},
   "outputs": [
    {
     "name": "stdout",
     "output_type": "stream",
     "text": [
      "Happy Birthday 18\n"
     ]
    }
   ],
   "source": [
    "#now lets create our own module, remember we need to use __init__.py in the folder to recognize it as module\n",
    "\n",
    "from pack.greeting import greet\n",
    "\n",
    "print(greet(18)) "
   ]
  },
  {
   "cell_type": "code",
   "execution_count": null,
   "id": "400729fc",
   "metadata": {},
   "outputs": [],
   "source": []
  },
  {
   "cell_type": "code",
   "execution_count": null,
   "id": "6461b405",
   "metadata": {},
   "outputs": [],
   "source": []
  },
  {
   "cell_type": "code",
   "execution_count": null,
   "id": "f48ea073",
   "metadata": {},
   "outputs": [],
   "source": []
  },
  {
   "cell_type": "code",
   "execution_count": null,
   "id": "0a6475ba",
   "metadata": {},
   "outputs": [],
   "source": []
  },
  {
   "cell_type": "code",
   "execution_count": null,
   "id": "65dfa892",
   "metadata": {},
   "outputs": [],
   "source": []
  }
 ],
 "metadata": {
  "kernelspec": {
   "display_name": "Python 3",
   "language": "python",
   "name": "python3"
  },
  "language_info": {
   "codemirror_mode": {
    "name": "ipython",
    "version": 3
   },
   "file_extension": ".py",
   "mimetype": "text/x-python",
   "name": "python",
   "nbconvert_exporter": "python",
   "pygments_lexer": "ipython3",
   "version": "3.12.0"
  }
 },
 "nbformat": 4,
 "nbformat_minor": 5
}
