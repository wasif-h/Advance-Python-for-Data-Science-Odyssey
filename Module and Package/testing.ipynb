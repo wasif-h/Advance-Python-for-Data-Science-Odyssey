{
 "cells": [
  {
   "cell_type": "markdown",
   "id": "60b0df54",
   "metadata": {},
   "source": [
    "# module and package"
   ]
  },
  {
   "cell_type": "code",
   "execution_count": 1,
   "id": "eac941c7",
   "metadata": {},
   "outputs": [
    {
     "name": "stdout",
     "output_type": "stream",
     "text": [
      "3.0\n"
     ]
    }
   ],
   "source": [
    "# some modules comes with python installation\n",
    "\n",
    "import math\n",
    "print(math.sqrt(9))\n"
   ]
  },
  {
   "cell_type": "code",
   "execution_count": null,
   "id": "7923434f",
   "metadata": {},
   "outputs": [
    {
     "name": "stdout",
     "output_type": "stream",
     "text": [
      "3.0\n",
      "Value of pi  3.141592653589793\n"
     ]
    }
   ],
   "source": [
    "# to make this more directional and short\n",
    "\n",
    "from math import sqrt, pi\n",
    "\n",
    "# we can import all function by \n",
    "# from math import *\n",
    "\n",
    "print(sqrt(9))\n",
    "print(\"Value of pi \",pi)"
   ]
  },
  {
   "cell_type": "code",
   "execution_count": null,
   "id": "bc082c12",
   "metadata": {},
   "outputs": [
    {
     "data": {
      "text/plain": [
       "array([1, 2, 3])"
      ]
     },
     "execution_count": 4,
     "metadata": {},
     "output_type": "execute_result"
    }
   ],
   "source": [
    "# some modules doesn't come with default python\n",
    "import numpy as np\n",
    "# here np is alias, it means nickname\n",
    "\n",
    "np.array([1,2,3])"
   ]
  },
  {
   "cell_type": "code",
   "execution_count": 5,
   "id": "0bab3b22",
   "metadata": {},
   "outputs": [
    {
     "name": "stdout",
     "output_type": "stream",
     "text": [
      "Happy Birthday 18\n"
     ]
    }
   ],
   "source": [
    "#now lets create our own module, remember we need to use __init__.py in the folder to recognize it as module\n",
    "\n",
    "from pack.greeting import greet\n",
    "\n",
    "print(greet(18)) "
   ]
  },
  {
   "cell_type": "markdown",
   "id": "644b4628",
   "metadata": {},
   "source": [
    "## Some important module"
   ]
  },
  {
   "cell_type": "code",
   "execution_count": 6,
   "id": "400729fc",
   "metadata": {},
   "outputs": [
    {
     "name": "stdout",
     "output_type": "stream",
     "text": [
      "array('i', [1, 2, 3, 4])\n"
     ]
    }
   ],
   "source": [
    "import array\n",
    "\n",
    "arr = array.array('i',[1,2,3,4])\n",
    "print(arr)"
   ]
  },
  {
   "cell_type": "code",
   "execution_count": 8,
   "id": "6461b405",
   "metadata": {},
   "outputs": [
    {
     "name": "stdout",
     "output_type": "stream",
     "text": [
      "8\n",
      "c\n"
     ]
    }
   ],
   "source": [
    "import random\n",
    "\n",
    "print(random.randint(1,10))\n",
    "print(random.choice(['a','b','c']))"
   ]
  },
  {
   "cell_type": "code",
   "execution_count": null,
   "id": "f48ea073",
   "metadata": {},
   "outputs": [
    {
     "name": "stdout",
     "output_type": "stream",
     "text": [
      "w:\\AI_Learning\\DSKN\\Advance-Python-for-Data-Science-Odyssey\\Module and Package\n"
     ]
    }
   ],
   "source": [
    "import os\n",
    "\n",
    "print(os.getcwd())"
   ]
  },
  {
   "cell_type": "code",
   "execution_count": 10,
   "id": "0a6475ba",
   "metadata": {},
   "outputs": [],
   "source": [
    "os.mkdir(\"test_dir\")"
   ]
  },
  {
   "cell_type": "code",
   "execution_count": null,
   "id": "65dfa892",
   "metadata": {},
   "outputs": [
    {
     "data": {
      "text/plain": [
       "'destination.txt'"
      ]
     },
     "execution_count": 11,
     "metadata": {},
     "output_type": "execute_result"
    }
   ],
   "source": [
    "import shutil\n",
    "\n",
    "shutil.copyfile(\"source.txt\",\"destination.txt\")"
   ]
  },
  {
   "cell_type": "code",
   "execution_count": 13,
   "id": "7ad0b1f6",
   "metadata": {},
   "outputs": [
    {
     "name": "stdout",
     "output_type": "stream",
     "text": [
      "<class 'dict'>\n",
      "{\"name\": \"Wasif\", \"age\": 18}\n",
      "<class 'str'>\n",
      "{'name': 'Wasif', 'age': 18}\n",
      "<class 'dict'>\n"
     ]
    }
   ],
   "source": [
    "# data serialization\n",
    "\n",
    "import json\n",
    "\n",
    "data = {\"name\":\"Wasif\",\"age\":18}\n",
    "print(type(data))\n",
    "json_str = json.dumps(data)\n",
    "print(json_str)\n",
    "print(type(json_str))\n",
    "\n",
    "# lets do reverse process \n",
    "parsed_data = json.loads(json_str)\n",
    "print(parsed_data)\n",
    "print(type(parsed_data))\n",
    "\n"
   ]
  },
  {
   "cell_type": "code",
   "execution_count": 14,
   "id": "ba2e596a",
   "metadata": {},
   "outputs": [
    {
     "name": "stdout",
     "output_type": "stream",
     "text": [
      "['Name', 'Age']\n",
      "['Wasif', '23']\n"
     ]
    }
   ],
   "source": [
    "# work with csv\n",
    "\n",
    "import csv\n",
    "\n",
    "# creating csv and writting it \n",
    "with open('example.csv',mode='w',newline='') as file:\n",
    "    writer = csv.writer(file)\n",
    "    writer.writerow([\"Name\",\"Age\"])\n",
    "    writer.writerow([\"Wasif\",23])\n",
    "    \n",
    "    \n",
    "# reading that csv file \n",
    "\n",
    "with open(\"example.csv\",mode='r') as file:\n",
    "    reader = csv.reader(file)\n",
    "    for row in reader:\n",
    "        print(row)\n",
    "    "
   ]
  },
  {
   "cell_type": "code",
   "execution_count": null,
   "id": "0c3fa1b2",
   "metadata": {},
   "outputs": [
    {
     "name": "stdout",
     "output_type": "stream",
     "text": [
      "2025-04-21 13:32:42.804850\n",
      "2025-04-20 13:32:42.804850\n"
     ]
    }
   ],
   "source": [
    "# date time \n",
    "\n",
    "from datetime import datetime,timedelta\n",
    "\n",
    "now_time = datetime.now()\n",
    "print(now_time)\n",
    "yesterday =  now_time - timedelta(days=1)\n",
    "print(yesterday)\n"
   ]
  },
  {
   "cell_type": "code",
   "execution_count": 17,
   "id": "45d41d04",
   "metadata": {},
   "outputs": [
    {
     "name": "stdout",
     "output_type": "stream",
     "text": [
      "1745220911.6941044\n",
      "1745220914.6958935\n",
      "Difference =  3.001789093017578\n"
     ]
    }
   ],
   "source": [
    "# sleep the program\n",
    "\n",
    "import time\n",
    "now = time.time()\n",
    "print(now)\n",
    "time.sleep(3)\n",
    "after = time.time()\n",
    "print(after)\n",
    "print(\"Difference = \",after - now)\n"
   ]
  },
  {
   "cell_type": "code",
   "execution_count": 19,
   "id": "0ad6c8d4",
   "metadata": {},
   "outputs": [
    {
     "name": "stdout",
     "output_type": "stream",
     "text": [
      "123\n"
     ]
    }
   ],
   "source": [
    "# regular expression\n",
    "\n",
    "import re\n",
    "\n",
    "pattern = r\"\\d+\"\n",
    "text = \" I am 123 you are 456\"\n",
    "\n",
    "match = re.search(pattern,text)\n",
    "print(match.group())\n"
   ]
  },
  {
   "cell_type": "code",
   "execution_count": null,
   "id": "7974e199",
   "metadata": {},
   "outputs": [],
   "source": []
  }
 ],
 "metadata": {
  "kernelspec": {
   "display_name": "Python 3",
   "language": "python",
   "name": "python3"
  },
  "language_info": {
   "codemirror_mode": {
    "name": "ipython",
    "version": 3
   },
   "file_extension": ".py",
   "mimetype": "text/x-python",
   "name": "python",
   "nbconvert_exporter": "python",
   "pygments_lexer": "ipython3",
   "version": "3.12.0"
  }
 },
 "nbformat": 4,
 "nbformat_minor": 5
}
