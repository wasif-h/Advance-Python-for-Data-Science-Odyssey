{
 "cells": [
  {
   "cell_type": "markdown",
   "id": "3a53fcc9",
   "metadata": {},
   "source": [
    "# Object Oriented Programming"
   ]
  },
  {
   "cell_type": "code",
   "execution_count": 9,
   "id": "35ee2e72",
   "metadata": {},
   "outputs": [],
   "source": [
    "# creating a class or blueprint of Car \n",
    "class Car:\n",
    "    # constructor \n",
    "    def __init__(self,brand,model,top_speed,price):\n",
    "        self.brand = brand\n",
    "        self.top_speed = top_speed\n",
    "        self.price = price\n",
    "        \n",
    "    def display(self):\n",
    "        print(f\"\"\"\n",
    "              Brand Name -> {self.brand}\n",
    "              Top Speed -> {self.top_speed}\n",
    "              Asking Price -> {self.price}\n",
    "              \"\"\")"
   ]
  },
  {
   "cell_type": "code",
   "execution_count": 10,
   "id": "7e3a8952",
   "metadata": {},
   "outputs": [
    {
     "name": "stdout",
     "output_type": "stream",
     "text": [
      "bmw\n",
      "\n",
      "              Brand Name -> bmw\n",
      "              Top Speed -> 700\n",
      "              Asking Price -> 200\n",
      "              \n"
     ]
    }
   ],
   "source": [
    "# create an object of car \n",
    "\n",
    "c1 = Car('bmw','r9',700,200)\n",
    "# using attribute \n",
    "print(c1.brand)\n",
    "\n",
    "# using method \n",
    "c1.display()"
   ]
  },
  {
   "cell_type": "markdown",
   "id": "0c731fe4",
   "metadata": {},
   "source": [
    "`ATM Booth using OOPs`"
   ]
  },
  {
   "cell_type": "code",
   "execution_count": 12,
   "id": "80685fe5",
   "metadata": {},
   "outputs": [],
   "source": [
    "class ATM:\n",
    "    def __init__(self, name, age, balance=0):\n",
    "        self.name = name\n",
    "        self.age = age\n",
    "        self.balance = balance\n",
    "\n",
    "    def deposit(self, amount):\n",
    "        self.balance += amount\n",
    "        print(f\"You deposited {amount} Taka\\nTotal Balance = {self.balance}\")\n",
    "\n",
    "    def withdraw(self, amount):\n",
    "        if (amount > self.balance):\n",
    "            print(\"Insufficient Balance\")\n",
    "        else:\n",
    "            self.balance -= amount\n",
    "            print(\n",
    "                f\"You withdrawed {amount} Taka\\nTotal Balance = {self.balance}\")\n",
    "\n",
    "    def show_info(self):\n",
    "        print(f\"Name - {self.name}\\nAge - {self.age}\")\n",
    "        print(f\"Total Balance = {self.balance}\")"
   ]
  },
  {
   "cell_type": "code",
   "execution_count": 16,
   "id": "2e5ad560",
   "metadata": {},
   "outputs": [
    {
     "name": "stdout",
     "output_type": "stream",
     "text": [
      "Name - Wasif\n",
      "Age - 23\n",
      "Total Balance = 12000\n",
      "You deposited 3000 Taka\n",
      "Total Balance = 15000\n",
      "Insufficient Balance\n"
     ]
    }
   ],
   "source": [
    "person1 = ATM(\"Wasif\", 23, 12000)\n",
    "person1.show_info()\n",
    "person1.deposit(3000)\n",
    "\n",
    "person1.withdraw(16000)"
   ]
  },
  {
   "cell_type": "markdown",
   "id": "245b6b71",
   "metadata": {},
   "source": [
    "### Inheritance"
   ]
  },
  {
   "cell_type": "markdown",
   "id": "04627751",
   "metadata": {},
   "source": [
    "`single inheritance`"
   ]
  },
  {
   "cell_type": "code",
   "execution_count": 28,
   "id": "d937bb2e",
   "metadata": {},
   "outputs": [],
   "source": [
    "\n",
    "\n",
    "class Car:\n",
    "    def __init__(self,enginetype,door):\n",
    "        self.enginetype = enginetype\n",
    "        self.door = door\n",
    "        \n",
    "    def eng(self):\n",
    "        print(f\"Engine Type = {self.enginetype}\")\n",
    "        \n",
    "class Tesla(Car):\n",
    "    def __init__(self,enginetype,door,speed):\n",
    "        Car.__init__(self,enginetype,door)\n",
    "        self.speed = speed\n",
    "        \n",
    "    def show(self):\n",
    "        print(f\"Door - {self.door}\\nSpeed = {self.speed}\")\n",
    "        "
   ]
  },
  {
   "cell_type": "code",
   "execution_count": 23,
   "id": "80b120b2",
   "metadata": {},
   "outputs": [
    {
     "name": "stdout",
     "output_type": "stream",
     "text": [
      "Engine Type = Electric\n",
      "Door - 4\n",
      "Speed = 700\n"
     ]
    }
   ],
   "source": [
    "c1 = Tesla('Electric', 4, 700)\n",
    "c1.eng()\n",
    "c1.show()"
   ]
  },
  {
   "cell_type": "markdown",
   "id": "cf3fb290",
   "metadata": {},
   "source": [
    "`Multiple Inheritance`"
   ]
  },
  {
   "cell_type": "code",
   "execution_count": null,
   "id": "7bdf70c6",
   "metadata": {},
   "outputs": [],
   "source": [
    "\n",
    "# base class 1\n",
    "class Animal:\n",
    "    def __init__(self,color,leg):\n",
    "        self.color = color\n",
    "        self.leg = leg\n",
    "        \n",
    "    def show(self):\n",
    "        print(f\"Color - {self.color}\\nLeg - {self.leg}\")"
   ]
  },
  {
   "cell_type": "code",
   "execution_count": 25,
   "id": "aeb613b2",
   "metadata": {},
   "outputs": [],
   "source": [
    "# base class 2\n",
    "class Owner:\n",
    "    def __init__(self,name,age):\n",
    "        self.name = name\n",
    "        self.age = age\n",
    "    def show_owner(self):\n",
    "        print(f\"Name - {self.name}\\nAge - {self.age}\")\n",
    "    \n",
    "    "
   ]
  },
  {
   "cell_type": "code",
   "execution_count": 26,
   "id": "5c057444",
   "metadata": {},
   "outputs": [],
   "source": [
    "# derived class \n",
    "\n",
    "class Dog(Animal,Owner):\n",
    "    def __init__(self, color, leg,name,age,breed):\n",
    "        Animal.__init__(self,color,leg)\n",
    "        Owner.__init__(self,name,age)\n",
    "        \n",
    "        self.breed = breed\n",
    "        \n",
    "    def breedinfo(self):\n",
    "        print(f\"Breed - {self.breed}\")"
   ]
  },
  {
   "cell_type": "code",
   "execution_count": 27,
   "id": "04bd6dc8",
   "metadata": {},
   "outputs": [
    {
     "name": "stdout",
     "output_type": "stream",
     "text": [
      "Name - Galib\n",
      "Age - 23\n",
      "Color - Brown\n",
      "Leg - 4\n",
      "Breed - Golden Retriver\n"
     ]
    }
   ],
   "source": [
    "# creating object\n",
    "\n",
    "d1 = Dog('Brown',4,\"Galib\",23,\"Golden Retriver\")\n",
    "\n",
    "d1.show_owner()\n",
    "d1.show()\n",
    "d1.breedinfo()\n"
   ]
  },
  {
   "cell_type": "markdown",
   "id": "3958a598",
   "metadata": {},
   "source": [
    "### Polymorphism"
   ]
  },
  {
   "cell_type": "code",
   "execution_count": 5,
   "id": "6298da13",
   "metadata": {},
   "outputs": [],
   "source": [
    "class Sport:\n",
    "    def player(self):\n",
    "        print(\"there will be 11 players in Sport\")\n",
    "\n",
    "class Football(Sport):\n",
    "    def player(self):\n",
    "        print(\"there will be 11 players in football\")\n",
    "\n",
    "class GoldenGoal(Football):\n",
    "    def player(self):\n",
    "        print(\"there will be 11 players in goldengoal\")"
   ]
  },
  {
   "cell_type": "code",
   "execution_count": 6,
   "id": "b4c1db3a",
   "metadata": {},
   "outputs": [
    {
     "name": "stdout",
     "output_type": "stream",
     "text": [
      "there will be 11 players in goldengoal\n",
      "there will be 11 players in Sport\n"
     ]
    }
   ],
   "source": [
    "s1 = GoldenGoal()\n",
    "s1.player()\n",
    "\n",
    "s2 = Sport()\n",
    "s2.player()"
   ]
  },
  {
   "cell_type": "code",
   "execution_count": null,
   "id": "5af03008",
   "metadata": {},
   "outputs": [],
   "source": []
  },
  {
   "cell_type": "code",
   "execution_count": null,
   "id": "5ce96da3",
   "metadata": {},
   "outputs": [],
   "source": []
  },
  {
   "cell_type": "code",
   "execution_count": null,
   "id": "1eae885a",
   "metadata": {},
   "outputs": [],
   "source": []
  }
 ],
 "metadata": {
  "kernelspec": {
   "display_name": "Python 3",
   "language": "python",
   "name": "python3"
  },
  "language_info": {
   "codemirror_mode": {
    "name": "ipython",
    "version": 3
   },
   "file_extension": ".py",
   "mimetype": "text/x-python",
   "name": "python",
   "nbconvert_exporter": "python",
   "pygments_lexer": "ipython3",
   "version": "3.12.0"
  }
 },
 "nbformat": 4,
 "nbformat_minor": 5
}
