{
 "cells": [
  {
   "cell_type": "markdown",
   "id": "04a27d0a",
   "metadata": {},
   "source": [
    "`Magic Method`"
   ]
  },
  {
   "cell_type": "code",
   "execution_count": null,
   "id": "d5b94e55",
   "metadata": {},
   "outputs": [
    {
     "name": "stdout",
     "output_type": "stream",
     "text": [
      "<__main__.Human object at 0x000001E1B9C38950>\n"
     ]
    }
   ],
   "source": [
    "class Human:\n",
    "    def show(self):\n",
    "        print(\"Hello\")\n",
    "        \n",
    "obj = Human()\n",
    "print(obj)\n",
    "\n",
    "# <__main__.Human object at 0x000001E1B9C38950> this is default output if a print object "
   ]
  },
  {
   "cell_type": "code",
   "execution_count": 3,
   "id": "e93ea3a4",
   "metadata": {},
   "outputs": [
    {
     "name": "stdout",
     "output_type": "stream",
     "text": [
      "Your object is a great object\n"
     ]
    }
   ],
   "source": [
    "class Human:\n",
    "    def show(self):\n",
    "        print(\"Hello\")\n",
    "    \n",
    "    def __str__(self):\n",
    "        return f\"Your object is a great object\"\n",
    "        \n",
    "obj = Human()\n",
    "print(obj)"
   ]
  },
  {
   "cell_type": "code",
   "execution_count": null,
   "id": "7b7d68af",
   "metadata": {},
   "outputs": [],
   "source": []
  },
  {
   "cell_type": "code",
   "execution_count": null,
   "id": "77e17d6d",
   "metadata": {},
   "outputs": [],
   "source": []
  },
  {
   "cell_type": "code",
   "execution_count": null,
   "id": "9eeeea29",
   "metadata": {},
   "outputs": [],
   "source": []
  }
 ],
 "metadata": {
  "kernelspec": {
   "display_name": "Python 3",
   "language": "python",
   "name": "python3"
  },
  "language_info": {
   "codemirror_mode": {
    "name": "ipython",
    "version": 3
   },
   "file_extension": ".py",
   "mimetype": "text/x-python",
   "name": "python",
   "nbconvert_exporter": "python",
   "pygments_lexer": "ipython3",
   "version": "3.12.0"
  }
 },
 "nbformat": 4,
 "nbformat_minor": 5
}
