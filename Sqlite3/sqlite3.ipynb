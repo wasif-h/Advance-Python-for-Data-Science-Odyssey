{
 "cells": [
  {
   "cell_type": "markdown",
   "id": "a93e58ec",
   "metadata": {},
   "source": [
    "# Sqlite3"
   ]
  },
  {
   "cell_type": "code",
   "execution_count": 1,
   "id": "d9ce2070",
   "metadata": {},
   "outputs": [],
   "source": [
    "import sqlite3"
   ]
  },
  {
   "cell_type": "code",
   "execution_count": 4,
   "id": "404a6460",
   "metadata": {},
   "outputs": [],
   "source": [
    "# connect to an sql database \n",
    "\n",
    "connection = sqlite3.connect('example.db')"
   ]
  },
  {
   "cell_type": "code",
   "execution_count": 5,
   "id": "34ad7203",
   "metadata": {},
   "outputs": [],
   "source": [
    "cursor = connection.cursor()"
   ]
  },
  {
   "cell_type": "code",
   "execution_count": null,
   "id": "7547713b",
   "metadata": {},
   "outputs": [],
   "source": [
    "# create a table \n",
    "\n",
    "cursor.execute(\"\"\"\n",
    "               \n",
    "               create Table if not exists employees(\n",
    "                   id Integer\n",
    "               )\n",
    "               \n",
    "               \"\"\")"
   ]
  }
 ],
 "metadata": {
  "kernelspec": {
   "display_name": "Python 3",
   "language": "python",
   "name": "python3"
  },
  "language_info": {
   "codemirror_mode": {
    "name": "ipython",
    "version": 3
   },
   "file_extension": ".py",
   "mimetype": "text/x-python",
   "name": "python",
   "nbconvert_exporter": "python",
   "pygments_lexer": "ipython3",
   "version": "3.12.0"
  }
 },
 "nbformat": 4,
 "nbformat_minor": 5
}
