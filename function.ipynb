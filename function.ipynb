{
 "cells": [
  {
   "cell_type": "markdown",
   "id": "1314bdb8",
   "metadata": {},
   "source": [
    "# Function"
   ]
  },
  {
   "cell_type": "code",
   "execution_count": null,
   "id": "2371f09a",
   "metadata": {},
   "outputs": [
    {
     "name": "stdout",
     "output_type": "stream",
     "text": [
      "2\n",
      "3\n",
      "4\n",
      "HEnlo\n"
     ]
    }
   ],
   "source": [
    "# taking multiple input\n",
    "def show(*args):\n",
    "    for i in args:\n",
    "        print(i)\n",
    "\n",
    "show(2,3,4,\"HEnlo\")"
   ]
  },
  {
   "cell_type": "code",
   "execution_count": 8,
   "id": "ce81f535",
   "metadata": {},
   "outputs": [
    {
     "name": "stdout",
     "output_type": "stream",
     "text": [
      "name ->> Wasif\n",
      "age ->> 18\n"
     ]
    }
   ],
   "source": [
    "# taking input with key and value\n",
    "\n",
    "def greet(**kwargs):\n",
    "    for key, val in kwargs.items():\n",
    "        print(f\"{key} ->> {val}\")\n",
    "        \n",
    "greet(name= \"Wasif\",age = 18)"
   ]
  },
  {
   "cell_type": "markdown",
   "id": "5dcabebf",
   "metadata": {},
   "source": [
    "### Lambda"
   ]
  },
  {
   "cell_type": "code",
   "execution_count": 12,
   "id": "848cb9d8",
   "metadata": {},
   "outputs": [
    {
     "name": "stdout",
     "output_type": "stream",
     "text": [
      "Normal Function :  5\n",
      "Lambda Function :  8\n"
     ]
    }
   ],
   "source": [
    "\n",
    "# normal func\n",
    "def add(a, b):\n",
    "    return a + b\n",
    "\n",
    "\n",
    "print(\"Normal Function : \", add(2, 3))\n",
    "\n",
    "# lambda style\n",
    "\n",
    "# addition = lambda a,b: print(a + b)\n",
    "\n",
    "\n",
    "def addition(a, b): return a + b\n",
    "\n",
    "\n",
    "print(\"Lambda Function : \", addition(3, 5))"
   ]
  },
  {
   "cell_type": "markdown",
   "id": "a153ea9c",
   "metadata": {},
   "source": [
    "### Map\n",
    "`Apply to all element`"
   ]
  },
  {
   "cell_type": "code",
   "execution_count": null,
   "id": "d9e18f9d",
   "metadata": {},
   "outputs": [
    {
     "name": "stdout",
     "output_type": "stream",
     "text": [
      "[1, 4, 9, 16, 25]\n",
      "[11, 12, 13, 14, 15]\n"
     ]
    }
   ],
   "source": [
    "def sqr(num):\n",
    "    return num*num\n",
    "\n",
    "\n",
    "arr = [1, 2, 3, 4, 5]\n",
    "# square all element of list arr\n",
    "modarr = list(map(sqr, arr))\n",
    "# add 10 to the all elements\n",
    "modarr_lambda = list(map(lambda num: num + 10,arr))\n",
    "\n",
    "print(modarr)\n",
    "print(modarr_lambda)"
   ]
  },
  {
   "cell_type": "code",
   "execution_count": 15,
   "id": "fde6b96b",
   "metadata": {},
   "outputs": [
    {
     "name": "stdout",
     "output_type": "stream",
     "text": [
      "[6, 9, 11, 13, 15]\n"
     ]
    }
   ],
   "source": [
    "# two list together\n",
    "\n",
    "arr1 = [1, 2, 3, 4, 5]\n",
    "arr2 = [5, 7, 8, 9, 10]\n",
    "\n",
    "arr3 = list(map(lambda a, b: a + b, arr1, arr2))\n",
    "print(arr3)"
   ]
  },
  {
   "cell_type": "code",
   "execution_count": 20,
   "id": "a9841a2e",
   "metadata": {},
   "outputs": [
    {
     "name": "stdout",
     "output_type": "stream",
     "text": [
      "[1, 2, 3] Sum =  6\n"
     ]
    }
   ],
   "source": [
    "# make all str to integers\n",
    "\n",
    "arr = ['1','2','3']\n",
    "\n",
    "arr = list(map(int,arr))\n",
    "print(arr,\"Sum = \",sum(arr))\n",
    "\n"
   ]
  },
  {
   "cell_type": "code",
   "execution_count": null,
   "id": "2c9b3fb2",
   "metadata": {},
   "outputs": [],
   "source": []
  },
  {
   "cell_type": "code",
   "execution_count": null,
   "id": "bd67a36e",
   "metadata": {},
   "outputs": [],
   "source": []
  },
  {
   "cell_type": "code",
   "execution_count": null,
   "id": "b9421aad",
   "metadata": {},
   "outputs": [],
   "source": []
  },
  {
   "cell_type": "code",
   "execution_count": null,
   "id": "657b1879",
   "metadata": {},
   "outputs": [],
   "source": []
  },
  {
   "cell_type": "code",
   "execution_count": null,
   "id": "dd3ff4d4",
   "metadata": {},
   "outputs": [],
   "source": []
  },
  {
   "cell_type": "code",
   "execution_count": null,
   "id": "d9b39bd8",
   "metadata": {},
   "outputs": [],
   "source": []
  },
  {
   "cell_type": "code",
   "execution_count": null,
   "id": "7989fce5",
   "metadata": {},
   "outputs": [],
   "source": []
  },
  {
   "cell_type": "code",
   "execution_count": null,
   "id": "a15c4e48",
   "metadata": {},
   "outputs": [],
   "source": []
  },
  {
   "cell_type": "code",
   "execution_count": null,
   "id": "db210f0f",
   "metadata": {},
   "outputs": [],
   "source": []
  },
  {
   "cell_type": "code",
   "execution_count": null,
   "id": "8ce665d4",
   "metadata": {},
   "outputs": [],
   "source": []
  },
  {
   "cell_type": "code",
   "execution_count": null,
   "id": "a7826d73",
   "metadata": {},
   "outputs": [],
   "source": []
  },
  {
   "cell_type": "code",
   "execution_count": null,
   "id": "07f78366",
   "metadata": {},
   "outputs": [],
   "source": []
  },
  {
   "cell_type": "code",
   "execution_count": null,
   "id": "5bd03e5f",
   "metadata": {},
   "outputs": [],
   "source": []
  },
  {
   "cell_type": "code",
   "execution_count": null,
   "id": "d6eb5fab",
   "metadata": {},
   "outputs": [],
   "source": []
  },
  {
   "cell_type": "code",
   "execution_count": null,
   "id": "660a164d",
   "metadata": {},
   "outputs": [],
   "source": []
  },
  {
   "cell_type": "code",
   "execution_count": null,
   "id": "cc342665",
   "metadata": {},
   "outputs": [],
   "source": []
  },
  {
   "cell_type": "code",
   "execution_count": null,
   "id": "f2e95539",
   "metadata": {},
   "outputs": [],
   "source": []
  },
  {
   "cell_type": "code",
   "execution_count": null,
   "id": "d88d3874",
   "metadata": {},
   "outputs": [],
   "source": []
  }
 ],
 "metadata": {
  "kernelspec": {
   "display_name": "Python 3",
   "language": "python",
   "name": "python3"
  },
  "language_info": {
   "codemirror_mode": {
    "name": "ipython",
    "version": 3
   },
   "file_extension": ".py",
   "mimetype": "text/x-python",
   "name": "python",
   "nbconvert_exporter": "python",
   "pygments_lexer": "ipython3",
   "version": "3.12.0"
  }
 },
 "nbformat": 4,
 "nbformat_minor": 5
}
